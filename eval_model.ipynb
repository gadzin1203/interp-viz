{
 "cells": [
  {
   "cell_type": "code",
   "execution_count": 1,
   "metadata": {},
   "outputs": [],
   "source": [
    "%load_ext autoreload\n",
    "%autoreload 2"
   ]
  },
  {
   "cell_type": "code",
   "execution_count": 3,
   "metadata": {},
   "outputs": [],
   "source": [
    "import collections\n",
    "import einops\n",
    "import matplotlib.pyplot as plt\n",
    "import math\n",
    "import numpy as np\n",
    "import torch as t\n",
    "from torch import nn\n",
    "import transformers\n",
    "from IPython.core.display import HTML, display\n",
    "\n",
    "import minigpt_utils\n",
    "from days.utils import *\n",
    "\n",
    "\n",
    "tokenizer = transformers.GPT2Tokenizer.from_pretrained(\"gpt2\")\n",
    "tokenizer._add_tokens([\"[BEGIN]\", \"[END]\"])\n",
    "tokenizer.pad_token = \"[END]\"\n",
    "tokenizer.eos_token = \"[END]\""
   ]
  },
  {
   "cell_type": "code",
   "execution_count": null,
   "metadata": {},
   "outputs": [],
   "source": [
    "gen_model = transformers.GPT2LMHeadModel.from_pretrained(\"gpt2\")"
   ]
  },
  {
   "cell_type": "code",
   "execution_count": 4,
   "metadata": {},
   "outputs": [],
   "source": [
    "eval_model = minigpt_utils.get_minigpt(\"model.pt\")"
   ]
  },
  {
   "cell_type": "markdown",
   "metadata": {},
   "source": [
    "### VWAS for minigpt\n",
    "\n",
    "Let's see if VWAS correspond to our intuitive understanding of what should activate the heads.\n",
    "\n",
    "`value-weighted attention scores (from, to) = score(from,to)*norm(V(from))`"
   ]
  },
  {
   "cell_type": "code",
   "execution_count": 55,
   "metadata": {},
   "outputs": [],
   "source": [
    "texts = [\n",
    "    \"[BEGIN] Now that we've tried a one-layer model, let's try a two-layer model.\",\n",
    "    \"[BEGIN] Now that we've tried a one-layer model, let's try a two layer model.\",\n",
    "    \"[BEGIN] Now that we've tried a one-layer model, let's try something else.\",\n",
    "]"
   ]
  },
  {
   "cell_type": "code",
   "execution_count": 56,
   "metadata": {},
   "outputs": [],
   "source": [
    "input_ids = tokenizer(texts, return_tensors='pt', padding=True).input_ids"
   ]
  },
  {
   "cell_type": "code",
   "execution_count": 57,
   "metadata": {},
   "outputs": [
    {
     "data": {
      "text/plain": [
       "torch.Size([3, 21, 50259])"
      ]
     },
     "execution_count": 57,
     "metadata": {},
     "output_type": "execute_result"
    }
   ],
   "source": [
    "eval_model(input_ids).shape"
   ]
  },
  {
   "cell_type": "code",
   "execution_count": 58,
   "metadata": {},
   "outputs": [
    {
     "data": {
      "text/plain": [
       "torch.Size([2, 3, 8, 21, 21])"
      ]
     },
     "execution_count": 58,
     "metadata": {},
     "output_type": "execute_result"
    }
   ],
   "source": [
    "weighted_attns = eval_model.weighted_attention(input_ids)\n",
    "# -> [n_layer, n_batch, n_head, q, k]\n",
    "weighted_attns.shape"
   ]
  },
  {
   "cell_type": "code",
   "execution_count": 59,
   "metadata": {},
   "outputs": [],
   "source": [
    "vwas_1_4 = weighted_attns[1,:,4,:,:]\n",
    "vwas_1_5 = weighted_attns[1,:,5,:,:]\n",
    "vwas_1_6 = weighted_attns[1,:,6,:,:]"
   ]
  },
  {
   "cell_type": "code",
   "execution_count": 60,
   "metadata": {},
   "outputs": [
    {
     "data": {
      "text/plain": [
       "torch.Size([3, 21, 21])"
      ]
     },
     "execution_count": 60,
     "metadata": {},
     "output_type": "execute_result"
    }
   ],
   "source": [
    "vwas_1_4.shape"
   ]
  },
  {
   "cell_type": "code",
   "execution_count": 61,
   "metadata": {},
   "outputs": [
    {
     "name": "stdout",
     "output_type": "stream",
     "text": [
      "tensor([7.9436, 6.6319, 6.1856]) tensor([52.7071, 52.9230, 51.7804]) tensor([22.2051, 21.7206, 20.3310])\n"
     ]
    }
   ],
   "source": [
    "print(t.sum(vwas_1_4, dim=[-1,-2]),\n",
    "      t.sum(vwas_1_5, dim=[-1,-2]),\n",
    "      t.sum(vwas_1_6, dim=[-1,-2]))"
   ]
  },
  {
   "cell_type": "code",
   "execution_count": 62,
   "metadata": {},
   "outputs": [
    {
     "name": "stdout",
     "output_type": "stream",
     "text": [
      "tensor([1.3423, 0.6032, 0.2870]) tensor([1.7162, 1.7162, 1.7162]) tensor([1.2685, 0.6566, 0.6566])\n"
     ]
    }
   ],
   "source": [
    "print(t.max(t.max(vwas_1_4, dim=-1).values, dim=-1).values,\n",
    "      t.max(t.max(vwas_1_5, dim=-1).values, dim=-1).values,\n",
    "      t.max(t.max(vwas_1_6, dim=-1).values, dim=-1).values)"
   ]
  },
  {
   "cell_type": "code",
   "execution_count": 66,
   "metadata": {},
   "outputs": [
    {
     "data": {
      "text/plain": [
       "tensor([[  257,   734,    12, 29289,  2746,    13],\n",
       "        [  257,   734,  7679,  2746,    13, 50258],\n",
       "        [ 1223,  2073,    13, 50258, 50258, 50258]])"
      ]
     },
     "execution_count": 66,
     "metadata": {},
     "output_type": "execute_result"
    }
   ],
   "source": [
    "input_ids[:,15:]\n",
    "# 1st sentence: ( a, one), ( -,layer), (layer, model), ( model,,)\n",
    "#                15,  7     17,   9        18,  10         19, 11\n",
    "# 2nd sentence: ( a, one), ( model,,)\n",
    "#               15,   7        18,11\n",
    "# 3rd sentence: "
   ]
  },
  {
   "cell_type": "code",
   "execution_count": 67,
   "metadata": {},
   "outputs": [
    {
     "data": {
      "text/plain": [
       "tensor([[50257,  3844,   326,   356,  1053,  3088,   257,   530,    12, 29289,\n",
       "          2746,    11,  1309,   338,  1949,   257,   734,    12, 29289,  2746,\n",
       "            13],\n",
       "        [50257,  3844,   326,   356,  1053,  3088,   257,   530,    12, 29289,\n",
       "          2746,    11,  1309,   338,  1949,   257,   734,  7679,  2746,    13,\n",
       "         50258],\n",
       "        [50257,  3844,   326,   356,  1053,  3088,   257,   530,    12, 29289,\n",
       "          2746,    11,  1309,   338,  1949,  1223,  2073,    13, 50258, 50258,\n",
       "         50258]])"
      ]
     },
     "execution_count": 67,
     "metadata": {},
     "output_type": "execute_result"
    }
   ],
   "source": [
    "input_ids"
   ]
  },
  {
   "cell_type": "code",
   "execution_count": 68,
   "metadata": {},
   "outputs": [
    {
     "data": {
      "text/plain": [
       "tensor([[ 0, 11],\n",
       "        [ 1, 11],\n",
       "        [ 2, 11]])"
      ]
     },
     "execution_count": 68,
     "metadata": {},
     "output_type": "execute_result"
    }
   ],
   "source": [
    "def get_token_idx(word, tokenizer, inputs):\n",
    "    tokenized_word = tokenizer(word).input_ids\n",
    "    assert len(tokenized_word) == 1, tokenized_word\n",
    "    token = tokenized_word[0]\n",
    "    idxs = (inputs == token).nonzero()\n",
    "    return idxs\n",
    "get_token_idx(\",\", tokenizer, input_ids)"
   ]
  },
  {
   "cell_type": "code",
   "execution_count": 69,
   "metadata": {},
   "outputs": [
    {
     "data": {
      "text/plain": [
       "<matplotlib.image.AxesImage at 0x7fdc7d7db880>"
      ]
     },
     "execution_count": 69,
     "metadata": {},
     "output_type": "execute_result"
    },
    {
     "data": {
      "image/png": "[encoded data removed]",
      "text/plain": [
       "<Figure size 432x288 with 1 Axes>"
      ]
     },
     "metadata": {
      "needs_background": "light"
     },
     "output_type": "display_data"
    }
   ],
   "source": [
    "plt.imshow(vwas_1_4[1])"
   ]
  },
  {
   "cell_type": "code",
   "execution_count": 70,
   "metadata": {},
   "outputs": [
    {
     "data": {
      "text/plain": [
       "<matplotlib.image.AxesImage at 0x7fdc7d74b7f0>"
      ]
     },
     "execution_count": 70,
     "metadata": {},
     "output_type": "execute_result"
    },
    {
     "data": {
      "image/png": "[encoded data removed]",
      "text/plain": [
       "<Figure size 432x288 with 1 Axes>"
      ]
     },
     "metadata": {
      "needs_background": "light"
     },
     "output_type": "display_data"
    }
   ],
   "source": [
    "plt.imshow(vwas_1_4[2])"
   ]
  },
  {
   "cell_type": "code",
   "execution_count": 71,
   "metadata": {},
   "outputs": [
    {
     "data": {
      "text/plain": [
       "<matplotlib.image.AxesImage at 0x7fdc7d6bc6a0>"
      ]
     },
     "execution_count": 71,
     "metadata": {},
     "output_type": "execute_result"
    },
    {
     "data": {
      "image/png": "[encoded data removed]",
      "text/plain": [
       "<Figure size 432x288 with 1 Axes>"
      ]
     },
     "metadata": {
      "needs_background": "light"
     },
     "output_type": "display_data"
    }
   ],
   "source": [
    "plt.imshow(vwas_1_5[1])"
   ]
  },
  {
   "cell_type": "code",
   "execution_count": 72,
   "metadata": {},
   "outputs": [
    {
     "data": {
      "text/plain": [
       "<matplotlib.image.AxesImage at 0x7fdc7d4a9670>"
      ]
     },
     "execution_count": 72,
     "metadata": {},
     "output_type": "execute_result"
    },
    {
     "data": {
      "image/png": "[encoded data removed]",
      "text/plain": [
       "<Figure size 432x288 with 1 Axes>"
      ]
     },
     "metadata": {
      "needs_background": "light"
     },
     "output_type": "display_data"
    }
   ],
   "source": [
    "plt.imshow(vwas_1_6[1])"
   ]
  },
  {
   "cell_type": "code",
   "execution_count": 78,
   "metadata": {},
   "outputs": [
    {
     "data": {
      "text/plain": [
       "20.76110076904297"
      ]
     },
     "execution_count": 78,
     "metadata": {},
     "output_type": "execute_result"
    }
   ],
   "source": [
    "t.sum(vwas_1_4).item()"
   ]
  },
  {
   "cell_type": "code",
   "execution_count": 79,
   "metadata": {},
   "outputs": [
    {
     "ename": "TypeError",
     "evalue": "save() missing 1 required positional argument: 'f'",
     "output_type": "error",
     "traceback": [
      "\u001b[0;31m---------------------------------------------------------------------------\u001b[0m",
      "\u001b[0;31mTypeError\u001b[0m                                 Traceback (most recent call last)",
      "\u001b[0;32m<ipython-input-79-01bf4ea9e505>\u001b[0m in \u001b[0;36m<module>\u001b[0;34m\u001b[0m\n\u001b[0;32m----> 1\u001b[0;31m \u001b[0mt\u001b[0m\u001b[0;34m.\u001b[0m\u001b[0msave\u001b[0m\u001b[0;34m(\u001b[0m\u001b[0meval_model\u001b[0m\u001b[0;34m)\u001b[0m\u001b[0;34m\u001b[0m\u001b[0;34m\u001b[0m\u001b[0m\n\u001b[0m",
      "\u001b[0;31mTypeError\u001b[0m: save() missing 1 required positional argument: 'f'"
     ]
    }
   ],
   "source": [
    "t.save(eval_model, )"
   ]
  },
  {
   "cell_type": "markdown",
   "metadata": {},
   "source": [
    "### VO for all tokens"
   ]
  },
  {
   "cell_type": "code",
   "execution_count": 5,
   "metadata": {},
   "outputs": [],
   "source": [
    "input_ids = t.arange(50259).unsqueeze(0)\n",
    "input = eval_model.token_embedding(input_ids)"
   ]
  },
  {
   "cell_type": "code",
   "execution_count": 27,
   "metadata": {},
   "outputs": [],
   "source": [
    "layer = eval_model.blocks[1]"
   ]
  },
  {
   "cell_type": "code",
   "execution_count": 28,
   "metadata": {},
   "outputs": [],
   "source": [
    "_, _, v = t.split(layer.project_qkv(input), layer.hidden_size, dim=-1)\n",
    "v = einops.rearrange(v, 'b n (h l) -> b h n l', l=layer.head_size)\n",
    "o_heads = einops.rearrange(layer.project_output.weight, '(h1 l1) (h2 l2) -> h1 l1 h2 l2', h1 = layer.n_heads, h2 = layer.n_heads)\n",
    "ov = t.einsum('imhl,bhnl -> binm', o_heads, v)\n",
    "normed_ov = t.norm(ov, dim=-1)"
   ]
  },
  {
   "cell_type": "code",
   "execution_count": 25,
   "metadata": {},
   "outputs": [],
   "source": [
    "ov_norms = {}\n",
    "ov_norms[0] = {}\n",
    "for h in range(8):\n",
    "    ov_norms[0][h] = {}\n",
    "    for token in range(50259):\n",
    "        ov_norms[0][h][token] = normed_ov[0, h, token].item()"
   ]
  },
  {
   "cell_type": "code",
   "execution_count": 31,
   "metadata": {},
   "outputs": [],
   "source": [
    "ov_norms[1] = {}\n",
    "for h in range(8):\n",
    "    ov_norms[1][h] = {}\n",
    "    for token in range(50259):\n",
    "        ov_norms[1][h][token] = normed_ov[0, h, token].item()"
   ]
  },
  {
   "cell_type": "code",
   "execution_count": 32,
   "metadata": {},
   "outputs": [],
   "source": [
    "import json\n",
    "with open('ov_norms_jan5_model.json', 'w') as f:\n",
    "    json.dump(ov_norms, f)"
   ]
  },
  {
   "cell_type": "code",
   "execution_count": 90,
   "metadata": {},
   "outputs": [
    {
     "data": {
      "text/plain": [
       "[339, 2, 12, 8, 187, 4904, 1288, 1, 367, 562, 144, 407, 372, 546, 192, 573]"
      ]
     },
     "execution_count": 90,
     "metadata": {},
     "output_type": "execute_result"
    }
   ],
   "source": [
    "[sum(np.array(list(ov_norms[l][h].values())) > 11) for l in range(2) for h in range(8)]"
   ]
  },
  {
   "cell_type": "code",
   "execution_count": 102,
   "metadata": {},
   "outputs": [
    {
     "data": {
      "image/png": "[encoded data removed]",
      "text/plain": [
       "<Figure size 432x288 with 1 Axes>"
      ]
     },
     "metadata": {
      "needs_background": "light"
     },
     "output_type": "display_data"
    }
   ],
   "source": [
    "plt.scatter(range(16), [ov_norms[l][h][50257] for l in range(2) for h in range(8)]);"
   ]
  },
  {
   "cell_type": "code",
   "execution_count": 96,
   "metadata": {},
   "outputs": [
    {
     "data": {
      "image/png": "[encoded data removed]",
      "text/plain": [
       "<Figure size 432x288 with 1 Axes>"
      ]
     },
     "metadata": {
      "needs_background": "light"
     },
     "output_type": "display_data"
    }
   ],
   "source": [
    "plt.scatter(range(16), [ov_norms[l][h][4222] for l in range(2) for h in range(8)]);"
   ]
  },
  {
   "cell_type": "code",
   "execution_count": 92,
   "metadata": {},
   "outputs": [
    {
     "data": {
      "text/plain": [
       "' presupp caric prophe precip Please kindredJoinIntrodu Nevertheless Emails CONTIN subscribing'"
      ]
     },
     "execution_count": 92,
     "metadata": {},
     "output_type": "execute_result"
    }
   ],
   "source": [
    "tokenizer.decode(np.argpartition(list(ov_norms[0][2].values()), -12)[-12:])"
   ]
  },
  {
   "cell_type": "code",
   "execution_count": 93,
   "metadata": {},
   "outputs": [
    {
     "data": {
      "text/plain": [
       "' exclus tox inn wom promotions Gret NXT Vietnamese Bent Univers Neander Kushner Witt Bavcru jungSubscribe tsun dys Kimmel Oops Vietannabin massage Italians Hondlopp Sioux CONTIN Scarborough Aeaqu ambul vapctory Stur precip BeastsRom LR Swed bona HurricanesIv Immun Travels Comet aeros WemAUT Turk SchlMer MaduroINGTON Hannibal Nun DDR van Barr lav Gly Resp Indo Okinawa respiribli calves leth dign POW HelmRow diarr tides SiegMcC Benz hyd ALP schizophrenia san kindred reun fet cruiser Thank Manit Franç haz psychiatric Okin tidal partic roundup Emails Ivanka Pug USS WW microbi frigIntrodu Geh McCull sequJenn euth soap Sha preeDamn Valkyrie Kislyak ove cum maternity Bie Cowboys -------------------- PLA allergic Manafort tranqu Strait KluVERTIS Esk Kers hepatitis liqu skirm Falk typh polyg Barton bron Latter subscribing Melaniayoutu Sixers claNAT'"
      ]
     },
     "execution_count": 93,
     "metadata": {},
     "output_type": "execute_result"
    }
   ],
   "source": [
    "tokenizer.decode(np.argpartition(list(ov_norms[1][2].values()), -144)[-144:])"
   ]
  },
  {
   "cell_type": "code",
   "execution_count": 76,
   "metadata": {},
   "outputs": [],
   "source": [
    "sort_ov = [sorted(ov_norms[l][h].values()) for l in range(2) for h in range(8)]"
   ]
  },
  {
   "cell_type": "code",
   "execution_count": 85,
   "metadata": {},
   "outputs": [
    {
     "data": {
      "image/png": "[encoded data removed]",
      "text/plain": [
       "<Figure size 432x288 with 1 Axes>"
      ]
     },
     "metadata": {
      "needs_background": "light"
     },
     "output_type": "display_data"
    }
   ],
   "source": [
    "[plt.plot(sorted(ov_norms[l][h].values())) for l in range(2) for h in range(8)];"
   ]
  },
  {
   "cell_type": "code",
   "execution_count": 101,
   "metadata": {},
   "outputs": [
    {
     "data": {
      "image/png": "[encoded data removed]",
      "text/plain": [
       "<Figure size 432x288 with 2 Axes>"
      ]
     },
     "metadata": {
      "needs_background": "light"
     },
     "output_type": "display_data"
    }
   ],
   "source": [
    "plt.imshow(np.cov([list(ov_norms[l][h].values()) for l in range(2) for h in range(8)]))\n",
    "plt.colorbar()\n",
    "plt.xticks(range(16));"
   ]
  },
  {
   "cell_type": "code",
   "execution_count": null,
   "metadata": {},
   "outputs": [],
   "source": []
  }
 ],
 "metadata": {
  "kernelspec": {
   "display_name": "Python 3",
   "language": "python",
   "name": "python3"
  },
  "language_info": {
   "codemirror_mode": {
    "name": "ipython",
    "version": 3
   },
   "file_extension": ".py",
   "mimetype": "text/x-python",
   "name": "python",
   "nbconvert_exporter": "python",
   "pygments_lexer": "ipython3",
   "version": "3.8.10"
  }
 },
 "nbformat": 4,
 "nbformat_minor": 4
}

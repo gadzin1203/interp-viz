{
 "cells": [
  {
   "cell_type": "code",
   "execution_count": null,
   "metadata": {},
   "outputs": [],
   "source": [
    "%load_ext autoreload\n",
    "%autoreload 2"
   ]
  },
  {
   "cell_type": "code",
   "execution_count": null,
   "metadata": {},
   "outputs": [],
   "source": [
    "import collections\n",
    "import einops\n",
    "import matplotlib.pyplot as plt\n",
    "import math\n",
    "import numpy as np\n",
    "import torch\n",
    "import torch as t\n",
    "from torch import nn\n",
    "import transformers\n",
    "from trl.gpt2 import GPT2HeadWithValueModel, respond_to_batch\n",
    "from trl.ppo import PPOTrainer\n",
    "from typing import Tuple, List, Dict\n",
    "from tqdm import tqdm\n",
    "import json\n",
    "import random\n",
    "import time\n",
    "\n",
    "from minigpt_utils import get_minigpt, MiniGPT\n",
    "from days.utils import *"
   ]
  },
  {
   "cell_type": "code",
   "execution_count": null,
   "metadata": {},
   "outputs": [],
   "source": [
    "DEVICES = [f\"cuda:{i}\" for i in range(8)]"
   ]
  },
  {
   "cell_type": "code",
   "execution_count": null,
   "metadata": {},
   "outputs": [],
   "source": [
    "tokenizer = transformers.GPT2Tokenizer.from_pretrained(\"gpt2\")\n",
    "tokenizer._add_tokens([\"[BEGIN]\", \"[END]\"])\n",
    "tokenizer.pad_token = \"[END]\"\n",
    "tokenizer.eos_token = \"[END]\""
   ]
  },
  {
   "cell_type": "code",
   "execution_count": null,
   "metadata": {},
   "outputs": [
    {
     "name": "stderr",
     "output_type": "stream",
     "text": [
      "Some weights of GPT2HeadWithValueModel were not initialized from the model checkpoint at gpt2 and are newly initialized: ['h.0.attn.masked_bias', 'h.1.attn.masked_bias', 'h.2.attn.masked_bias', 'h.3.attn.masked_bias', 'h.4.attn.masked_bias', 'h.5.attn.masked_bias', 'h.6.attn.masked_bias', 'h.7.attn.masked_bias', 'h.8.attn.masked_bias', 'h.9.attn.masked_bias', 'h.10.attn.masked_bias', 'h.11.attn.masked_bias', 'v_head.summary.bias', 'lm_head.weight', 'v_head.summary.weight']\n",
      "You should probably TRAIN this model on a down-stream task to be able to use it for predictions and inference.\n"
     ]
    }
   ],
   "source": [
    "gen_model = GPT2HeadWithValueModel.from_pretrained(\"gpt2\")"
   ]
  },
  {
   "cell_type": "markdown",
   "metadata": {},
   "source": [
    "# Generating probabilities"
   ]
  },
  {
   "cell_type": "code",
   "execution_count": null,
   "metadata": {},
   "outputs": [],
   "source": [
    "solo_logits = {}\n",
    "for token in range(tokenizer.vocab_size):\n",
    "    sentence = t.tensor([[tokenizer.bos_token_id, token]], dtype=t.long)\n",
    "    logits = gen_model(sentence)[0]\n",
    "    solo_logits[token] = t.softmax(logits, dim=2)[0, 0, token].detach().item()"
   ]
  },
  {
   "cell_type": "code",
   "execution_count": null,
   "metadata": {},
   "outputs": [
    {
     "data": {
      "text/plain": [
       "50257"
      ]
     },
     "execution_count": 40,
     "metadata": {},
     "output_type": "execute_result"
    }
   ],
   "source": [
    "len(solo_logits)"
   ]
  },
  {
   "cell_type": "code",
   "execution_count": null,
   "metadata": {},
   "outputs": [],
   "source": [
    "with open(\"gpt2_p_token_after_bos.txt\", 'w') as f:\n",
    "    json.dump(solo_logits, f)"
   ]
  },
  {
   "cell_type": "code",
   "execution_count": null,
   "metadata": {},
   "outputs": [],
   "source": [
    "with open(\"gpt2_p_token_after_bos.txt\") as f:\n",
    "    target = json.load(f)"
   ]
  },
  {
   "cell_type": "code",
   "execution_count": null,
   "metadata": {},
   "outputs": [],
   "source": [
    "target_dict = target"
   ]
  },
  {
   "cell_type": "code",
   "execution_count": null,
   "metadata": {},
   "outputs": [],
   "source": [
    "target = t.tensor([target_dict[str(k)] for k in range(tokenizer.vocab_size)])"
   ]
  },
  {
   "cell_type": "markdown",
   "metadata": {},
   "source": [
    "# Try training with restricted vocab"
   ]
  },
  {
   "cell_type": "code",
   "execution_count": null,
   "metadata": {},
   "outputs": [],
   "source": [
    "top1000 = t.topk(target, k=1000).indices"
   ]
  },
  {
   "cell_type": "code",
   "execution_count": null,
   "metadata": {},
   "outputs": [],
   "source": [
    "top1000_set = set(top1000.numpy())"
   ]
  },
  {
   "cell_type": "code",
   "execution_count": null,
   "metadata": {},
   "outputs": [],
   "source": [
    "def mask(logits, allowed):\n",
    "    logits[:,~allowed] = -t.inf"
   ]
  },
  {
   "cell_type": "code",
   "execution_count": null,
   "metadata": {},
   "outputs": [],
   "source": [
    "def generate(model, queries, allowed, txt_len=20, top_k=0, top_p=1.0):\n",
    "    \"\"\"Sample text from language model.\"\"\"\n",
    "    input_ids = queries\n",
    "    for i in range(txt_len):\n",
    "        # Get Logits\n",
    "        outputs = model(input_ids)\n",
    "        next_token_logits = outputs[0][:, -1, :] # start from next token\n",
    "        mask(next_token_logits, allowed) # remove verboten vocab\n",
    "        next_token_logits = transformers.top_k_top_p_filtering(next_token_logits, top_k=top_k, top_p=top_p)\n",
    "        # Sample\n",
    "        probs = t.nn.functional.softmax(next_token_logits, dim=-1)\n",
    "        probs[t.isnan(probs).nonzero()] = 0\n",
    "        next_token = torch.multinomial(probs, num_samples=1).squeeze(1)\n",
    "        input_ids = torch.cat([input_ids, next_token.unsqueeze(-1)], dim=-1)\n",
    "    return input_ids[:, -txt_len:]"
   ]
  },
  {
   "cell_type": "code",
   "execution_count": null,
   "metadata": {},
   "outputs": [],
   "source": [
    "def train(\n",
    "    gen_model,\n",
    "    ref_model,\n",
    "    ppo_config,\n",
    "    vocab,\n",
    "    reward_fn,\n",
    "    device,\n",
    "    gen_len:int = 20,\n",
    "    top_p:float = 1.0,\n",
    "    num_batches:int = 2,\n",
    "):\n",
    "    ppo_trainer = PPOTrainer(gen_model, ref_model, **ppo_config)\n",
    "\n",
    "    # encode a query\n",
    "    # query_txt = \"This morning I went to the \"\n",
    "    query_tensor = (t.tensor([tokenizer.bos_token_id], dtype=t.long, device=device)\n",
    "                    .unsqueeze(0)\n",
    "                    .repeat(ppo_config['batch_size'], 1))\n",
    "        \n",
    "    batch_info = []\n",
    "    allowed = t.isin(t.arange(tokenizer.vocab_size, device=device), vocab)\n",
    "    for batch in tqdm(range(num_batches)):\n",
    "        # get model response\n",
    "        with t.no_grad():\n",
    "            response_tensor = generate(gen_model, query_tensor, allowed, txt_len=gen_len, top_p=top_p)\n",
    "\n",
    "        reward = reward_fn(response_tensor)\n",
    "\n",
    "        # train model with ppo\n",
    "        train_stats = ppo_trainer.step(query_tensor, response_tensor, reward)\n",
    "        batch_info.append(train_stats)\n",
    "\n",
    "    return batch_info"
   ]
  },
  {
   "cell_type": "code",
   "execution_count": null,
   "metadata": {},
   "outputs": [],
   "source": [
    "def silly_reward(pos_tokens: t.Tensor): # b, seq_len -> b\n",
    "    return t.max(pos_tokens, dim=1).values/tokenizer.vocab_size"
   ]
  },
  {
   "cell_type": "code",
   "execution_count": null,
   "metadata": {},
   "outputs": [
    {
     "name": "stderr",
     "output_type": "stream",
     "text": [
      "Some weights of GPT2HeadWithValueModel were not initialized from the model checkpoint at gpt2 and are newly initialized: ['h.0.attn.masked_bias', 'h.1.attn.masked_bias', 'h.2.attn.masked_bias', 'h.3.attn.masked_bias', 'h.4.attn.masked_bias', 'h.5.attn.masked_bias', 'h.6.attn.masked_bias', 'h.7.attn.masked_bias', 'h.8.attn.masked_bias', 'h.9.attn.masked_bias', 'h.10.attn.masked_bias', 'h.11.attn.masked_bias', 'v_head.summary.bias', 'lm_head.weight', 'v_head.summary.weight']\n",
      "You should probably TRAIN this model on a down-stream task to be able to use it for predictions and inference.\n",
      "Some weights of GPT2HeadWithValueModel were not initialized from the model checkpoint at gpt2 and are newly initialized: ['h.0.attn.masked_bias', 'h.1.attn.masked_bias', 'h.2.attn.masked_bias', 'h.3.attn.masked_bias', 'h.4.attn.masked_bias', 'h.5.attn.masked_bias', 'h.6.attn.masked_bias', 'h.7.attn.masked_bias', 'h.8.attn.masked_bias', 'h.9.attn.masked_bias', 'h.10.attn.masked_bias', 'h.11.attn.masked_bias', 'v_head.summary.bias', 'lm_head.weight', 'v_head.summary.weight']\n",
      "You should probably TRAIN this model on a down-stream task to be able to use it for predictions and inference.\n",
      "100%|██████████| 32/32 [07:31<00:00, 14.10s/it]\n"
     ]
    }
   ],
   "source": [
    "########## This cell runs a single layer+head on a single GPU\n",
    "# Prompt is just the begin token\n",
    "device = DEVICES[3]\n",
    "ppo_config= {\n",
    "    \"batch_size\": 64,\n",
    "    \"forward_batch_size\": 8,\n",
    "    \"adap_kl_ctrl\": False,\n",
    "    \"init_kl_coef\": 0,\n",
    "}\n",
    "ref_model = GPT2HeadWithValueModel.from_pretrained(\"gpt2\").to(device)\n",
    "gen_model = GPT2HeadWithValueModel.from_pretrained(\"gpt2\").to(device)\n",
    "batch_info=train(gen_model, ref_model, ppo_config, top1000_v2.to(device), silly_reward, device, num_batches=32)"
   ]
  },
  {
   "cell_type": "code",
   "execution_count": null,
   "metadata": {},
   "outputs": [
    {
     "data": {
      "text/plain": [
       "tensor([0.3375, 0.3375, 0.5903, 0.2079, 0.5903, 0.3375, 0.3982, 0.3495, 0.3375,\n",
       "        0.3375, 0.3375, 0.2079], device='cuda:3')"
      ]
     },
     "execution_count": 107,
     "metadata": {},
     "output_type": "execute_result"
    }
   ],
   "source": [
    "query_tensor = (t.tensor([tokenizer.bos_token_id], dtype=t.long, device=device)\n",
    "                .unsqueeze(0)\n",
    "                .repeat(12, 1))\n",
    "allowed = t.isin(t.arange(tokenizer.vocab_size, device=device), top1000.to(device))\n",
    "text = generate(gen_model, query_tensor, allowed, txt_len=22)\n",
    "silly_reward(text)"
   ]
  },
  {
   "cell_type": "code",
   "execution_count": null,
   "metadata": {},
   "outputs": [
    {
     "data": {
      "text/plain": [
       "tensor([[    6, 10449,   345, 10449,   368,   368,    65,   368,   385,    11,\n",
       "           290,   345, 16962,    13,  7120,   368,   385, 10161,  1671,   385,\n",
       "         10161,  1671],\n",
       "        [    6, 10449,   345,     6,   355, 16962,   385,     6, 13847,     6,\n",
       "         10161,  1671,   385, 10161,  1671,   385, 14055, 16962,   385, 16962,\n",
       "           385,     6],\n",
       "        [    6, 18546,   368,     6, 10449,    70,   368,    11,   318,   368,\n",
       "           338, 14055, 29668,   368,    33,    72,    25, 13847,     6, 10161,\n",
       "           368, 16962],\n",
       "        [    6, 10449,   345,     6,   705,   368,   628,   198,  1135,   368,\n",
       "           385,   261,   345,    59,   368,   368,    33,   385,   368,    65,\n",
       "           385,     6],\n",
       "        [    6, 10449,   345,     6,   262, 10161,   338, 16962,   368,    33,\n",
       "           368,   385,    11, 10161,   385,   261, 29668,   368,    65,   385,\n",
       "             6, 16962],\n",
       "        [    6, 10449,   345,   355,   340,   338,   705,   368,   290,   705,\n",
       "           368,     6,  8199,    72,   705, 16962,     6, 10161,    65, 14055,\n",
       "         16962,    13],\n",
       "        [    6, 10449,   345,     6,   284,   262,   705,   368,   338,   257,\n",
       "         20012,     6, 16962,   368,    65, 10449,   345,    13,   628,   198,\n",
       "          1135,   368],\n",
       "        [    6,    40,  1477,    67, 10449, 10449, 10449,    38,    77,  2257,\n",
       "         10161,    65,   368,   385, 14055,  8248, 16962,    13, 17563, 16962,\n",
       "            13,    38],\n",
       "        [    6, 14055,   368,   368,   385,     6,  7282, 16962,     6,    33,\n",
       "           368,   385, 14055,  1273,   368,   385, 13847,     6,    33,   368,\n",
       "           385,  8199],\n",
       "        [    6, 10449,   345,     6,   705,   368, 16962,     6, 13847,     6,\n",
       "         11484,    82,     6, 10161, 10161,  1671,   385,   261, 10161,    65,\n",
       "           385,   368],\n",
       "        [    6, 10449,   345,     6,   355, 16962,   368,    65,   368,    65,\n",
       "            13,  8021,   368,    11, 16962,   368,    65,   368,    65,   368,\n",
       "            65,   368],\n",
       "        [    6, 10449,   345,   368,   368,  1671,   385,   628,   198, 10161,\n",
       "          1671,   385,     6, 10161,  1671,   385,    12,   368,  1671,   368,\n",
       "          1671,   385]], device='cuda:3')"
      ]
     },
     "execution_count": 110,
     "metadata": {},
     "output_type": "execute_result"
    }
   ],
   "source": [
    "text"
   ]
  },
  {
   "cell_type": "code",
   "execution_count": null,
   "metadata": {},
   "outputs": [
    {
     "data": {
      "text/plain": [
       "[<matplotlib.lines.Line2D at 0x7f801a163700>]"
      ]
     },
     "execution_count": 100,
     "metadata": {},
     "output_type": "execute_result"
    },
    {
     "data": {
      "image/png": "[encoded data removed]",
      "text/plain": [
       "<Figure size 432x288 with 1 Axes>"
      ]
     },
     "metadata": {
      "needs_background": "light"
     },
     "output_type": "display_data"
    }
   ],
   "source": [
    "plt.plot([info['ppo/loss/policy'][0] for info in batch_info])"
   ]
  },
  {
   "cell_type": "code",
   "execution_count": null,
   "metadata": {},
   "outputs": [],
   "source": [
    "allow_all = t.ones(tokenizer.vocab_size).bool()\n",
    "text = generate(gen_model, query_tensor, allow_all, txt_len=22)"
   ]
  },
  {
   "cell_type": "code",
   "execution_count": null,
   "metadata": {},
   "outputs": [
    {
     "data": {
      "text/plain": [
       "tensor([[    6,  2612,  2612,  2612,  2612,  2612,  2612,  2612,  2612, 11954,\n",
       "          2612,  2612,  2612, 11954,  2612,  2612, 11954,  2612, 11954,  2612,\n",
       "         11954,  2612],\n",
       "        [    6,  2612,  2612,  2612,  2612,  2612,  2612,  2612,  2612,  2612,\n",
       "          2612,  2612,  2612,  2612,  2612,  2612,  2612,  2612,  2612,  2612,\n",
       "          2612,  2612],\n",
       "        [    6,  2612,  2612,  2612,  2612,  2612,  2612,  2612,  2612,  2612,\n",
       "          2612,  2612, 11954,  2612,  2612,  2612,  2612,  2612,  2612,  2612,\n",
       "         11954,  2612],\n",
       "        [    6,  2612,  2612,  2612,  2612, 11954,  2612,  2612,  2612, 11954,\n",
       "          2612, 11954,  2612,  2612,  2612,  2612,  2612,  2612, 11954,  2612,\n",
       "          2612, 11954],\n",
       "        [    6,  2612,  2612,  2612,  2612,  2612,  2612,  2612,  2612,  2612,\n",
       "          2612,  2612,  2612, 11954,  2612,  2612,  2612,  2612,  2612, 11954,\n",
       "          2612, 11954],\n",
       "        [    6,  2612,  2612,  2612,  2612,  2612,  2612,  2612,  2612,  2612,\n",
       "          2612,  2612,  2612,  2612,  2612, 11954,  2612,  2612,  2612, 11954,\n",
       "          2612, 11954],\n",
       "        [    6,  2612,  2612,  2612,  2612,  2612,  2612,  2612,  2612,  2612,\n",
       "          2612,  2612,  2612,  2612,  2612,  2612,  2612,  2612,  2612,  2612,\n",
       "          2612,  2612],\n",
       "        [    6,  2612,  2612,  2612,  2612,  2612,  2612,  2612,  2612,  2612,\n",
       "          2612,  2612,  2612,  2612,  2612,  2612,  2612,  2612,  2612,  2612,\n",
       "          2612, 11954],\n",
       "        [    6,  2612,  2612,  2612,  2612,  2612,  2612,  2612,  2612,  2612,\n",
       "          2612,  2612,  2612,  2612,  2612,  2612,  2612,  2612,  2612,  2612,\n",
       "          2612,  2612],\n",
       "        [    6,  2612,  2612,  2612,  2612,  2612,  2612,  2612,  2612,  2612,\n",
       "          2612,  2612,  2612,  2612,  2612,  2612, 11954,  2612,  2612, 11954,\n",
       "          2612,  2612],\n",
       "        [    6,  2612,  2612,  2612,  2612,  2612,  2612,  2612,  2612,  2612,\n",
       "          2612,  2612,  2612,  2612,  2612,  2612,  2612,  2612, 11954,  2612,\n",
       "          2612,  2612],\n",
       "        [    6,  2612,  2612,  2612,  2612,  2612,  2612,  2612,  2612,  2612,\n",
       "          2612,  2612,  2612, 11954,  2612,  2612,  2612,  2612,  2612,  2612,\n",
       "          2612, 11954]], device='cuda:3')"
      ]
     },
     "execution_count": 112,
     "metadata": {},
     "output_type": "execute_result"
    }
   ],
   "source": [
    "text"
   ]
  },
  {
   "cell_type": "code",
   "execution_count": null,
   "metadata": {},
   "outputs": [
    {
     "data": {
      "text/plain": [
       "tensor(12, device='cuda:3')"
      ]
     },
     "execution_count": 115,
     "metadata": {},
     "output_type": "execute_result"
    }
   ],
   "source": [
    "t.sum(t.isin(text, top1000_v2.to(device)).int())"
   ]
  },
  {
   "cell_type": "markdown",
   "metadata": {},
   "source": [
    "## Comparing two measures of token_frequency"
   ]
  },
  {
   "cell_type": "code",
   "execution_count": null,
   "metadata": {},
   "outputs": [],
   "source": [
    "with open(\"v2_tok_counts.json\") as f:\n",
    "    v2_dict = json.load(f)"
   ]
  },
  {
   "cell_type": "code",
   "execution_count": null,
   "metadata": {},
   "outputs": [],
   "source": [
    "v2 = t.tensor([v2_dict.get(str(k),0) for k in range(tokenizer.vocab_size)])"
   ]
  },
  {
   "cell_type": "code",
   "execution_count": null,
   "metadata": {},
   "outputs": [],
   "source": [
    "top1000_v2 = t.topk(v2, k=1000).indices"
   ]
  },
  {
   "cell_type": "code",
   "execution_count": null,
   "metadata": {},
   "outputs": [
    {
     "data": {
      "text/plain": [
       "\"&'%\""
      ]
     },
     "execution_count": 15,
     "metadata": {},
     "output_type": "execute_result"
    }
   ],
   "source": [
    "tokenizer.decode([5,6,4])"
   ]
  },
  {
   "cell_type": "code",
   "execution_count": null,
   "metadata": {},
   "outputs": [
    {
     "data": {
      "text/plain": [
       "'!\"#$%&\\'()*+,-./0123456789:;<=>?@ABCDEFGHIJKLMNOPQRSTUVWXYZ[\\\\]^_`abcdefghijklmnoprstuvwxyz{|}~\\n aheinreon theeratenitisanoresedingalar to of in andaslestrolyid Iet A is onimamadse that for\\'s it you with 1ch as (if 2ers \"em was at Theusand orabthun00el from--alloutThe\\'t01..ieone.\" -are,\"clsoint\\n\\n It 0 [ \\'newe).. This –com =manThIn000, —up |10—...//It :12exco5019WeER11the**WhlessThis /20 )IN30St\": #15appmeON +be…AT14sc16tosh1325AR18byIfButHeES17ANOR\",YouforofnotbrENAs2480ISmy4022ALThereAndForback60use–\".ASCh2329ED27AnITWhat26289933IC70200REOntrWhen45ACST35likeAlIDAMOTSo6475\",\"How21ShwwwThatToLE3844Cl3632=\"OS39340537PhBC48Ad665547ADTr084909USNoAtProAPThey65070204Re10003Con68basedExUnLe3167WithArOPOneAllAfternet5906SheSc58CH()88BI46Immore57</43•newEMBlWhilePlMynameNot42FLPS::NewIssee90NowGetBeBy41\\xadnoIMDonhttp54500IP98SACC>>THContSP5253BAHere51butSomewithQu8689NAAddSp2015SeIRAppTSTheseAdvertisementwhich72PRAccordingAbEn96FromHoweverclassUp\")UNRes2014LevelDeCLOurManImageMoreSEOfWhyDoColMrGoSpeDSYes2016MeInt\">NameComSSTRhttpsPleaseInd2017thatReadOrTASuDAMSthisPCJustLetWellOhyouAmModOverLastDesFirstPerTypeCanEvenEveryTrumpSCDrPhotoRepSeeABPostEXSince2013OtherActThenNotePePLSecDataAnotherGettyHisRecPrefromMayTePrTVRelMost2012AlthoughSub\\'\\'ManyYourAnyFollowDuring(\"CoSetDisBackCompDonaldCheMPIdEdFlSourceAmericanSteItemOnceDefJohnSmTwoTimeAlsoLikeMarViewRedvarPart2018NetOutArtAssNSListPeopleRegAttBecauseRefCA***ClickNeBOGuTextWhoStarTransDespiteRemBeforeAreWhereLookAboutStepGrlinkWillGLGameTodaySimFileStatePoliceMonTop·UnderKeyEventGAHerOffBrCRConsMinClassInter\\u200bElStillThoseThanksSHDCMarkMcCalRetCheckRelatedCOMGlOBPageJoCarBlackNewsDownloadNextParOnlyGeEmGoodColorUpdateBothObjectPresidentBarMenDateStartSenThankSwTOBookAvailableWorldCorCodeDecWatchaboutGRVideoHeynewsEachAhThoughTableTHERunYeahPlayDavidRightUseSlFreeFinallyLogWindowsLinkCurrentOKBRLegYetOpenMaxDemStoryDidShareBenGoogleSignDescriptionPHHighSystemHaveFacebookPaulMakePatBelSecondGeneralBlockWhiteNeverTakeCountInfoSuperWorkBEActionThreeReutersBreBigUsingAcHand×EndclickUserBestBitMediaWarAntMichaelStrFullMaybeMainSpecialVerPowerMagAngGodFireHarReturnGreatEarlierPerhapsGreenCostGenTomPressWhichAuthorHeadDelSpeakingWebDoesPortLineNEWIsraelUSACoreSpaceChapterCallPlayerMacNorthNoneSurPostedBoxFormerFollowingJackAmongRobSorryOnlinePassBuyLocalBlueTheirChinaLongWelcomeLifeHavingJamesLaSchArticleCitySouthSeveralTotalTimTLBasedSanMalUKWestThroughLightGivenNumberFourTerEvPublic/*CopyrightShowAlexEmailWhetherSometimesHelloSupportTeamKeepRealChrisProductKingTraBroLookingEnglishMicrosoftObamaHomeAppleNotesJulyAirNationalEveryoneMarch©WithoutSamRussiaOverallVeryOkayClintonWinRememberFindComeProjectExpCardLawWasUPDATEUnitedMissEditorCommonHiTurnWouldUpdatedDarkWashingtonEnterBYSelectAdditionalBillContactPlusCanadaHealthHouseHistoryPriceAmericaJonJoinSearchUntilBeingEditCNNWomenConfLoveDiOkSmallAnnBobInfLiveFinalADVERTISEMENTReportSepJeffTitleWaterPaySteveHasFoxSureJoeDisclaimerWantEverythingCommunityFiveMuchGeorgeLearnHillaryCyLeadEarlyItsHumanOriginalGettingSocialQuickAnyoneCurrentlyHotSixPreviousIndiaTexasWASHINGTONIntroductionInformationWowThinkHelpSummaryGlobalBitcoinEarthGunNeedGiveBallChineseStandardCreditCouldEverDetails«RecentlyHappyResearchImagineJournalPotBritishStayRepublicanKimRecentAttackYesterdayJusticeOverviewBreakingStatsEmbCLOSE<|endoftext|>'"
      ]
     },
     "execution_count": 95,
     "metadata": {},
     "output_type": "execute_result"
    }
   ],
   "source": [
    "tokenizer.decode(sorted(top1000))"
   ]
  },
  {
   "cell_type": "code",
   "execution_count": null,
   "metadata": {},
   "outputs": [
    {
     "data": {
      "text/plain": [
       "'&\\'%)*(+,-05.3/6:748=1<;9eL?2BDCEAGI[XJN]@R�PKHVTFUgYWOn\\\\jqk^_aMdu�ipt`m��>clr} whoxhwyv�Zoill�S����\"#��ɾ~���f��{he��� you�|Ӣ��z do�թ�s�������� comp\\u05f9��� wor\\x02Q����Ͷ�����\\u07ba\\x01� g��\\x00��an\\x11The�����\\x03\\x0c\\x05���ge�� tra����\\x16 there��ain�ort��etb\\ton�am\\x0e\\x07���\\x0fيia Scott� the�\\x08�\\x17\\x0b��\\x14 inher�\\x1c\\x1b��\\x06�\\x15� t��\\r�ۀ\\x10�ar a�\\x1e� St�al����\\x1d\\x13art\\x18 re ser S and reik N��ll nowld Aions complethir\\x19 Uemle�\\x04 Bowidredun (ubateuric� on I� f\\x7fif J__ 1� p will behch Tat--ac can l scop�ra�ormendol an at e�ospe F have yin because is n Leit Oorimies or conost� L\\'s\\x1f j we itag thisve 5du o de againstizeix His bentcimericpp m G thatot foreringregap$ccame dist disib In kn leumod wh ab14 of�rawn makeut shpl don withompt our not as byingft Theast be01\\nour 2 fromings se w� pl alel allide st onlyideo�antithokongvern comould wereersich toighul becseayallyas\\x1a ne teab thoseest�ackaryntewkereeatesiveomeoselic wieldedimeInans unall M off itsentsrom r man agesob enoll\\x12 th� K car preav alsoore ifity \" piece C hisailless v millionckedine oneess didri somevery rockade her yourice E resment resultigqu more are whe00 look but\\'reated whichachax ablever full hereiz like - procludout�ous work tr partianualtt sa entbsightationusvelmed Thresordven longinceust13ifiedversand ro R otherindfter meiting sp firstract distectitionable hasike useens cre significantted u righten Wure themontroughountstclound per charff accish). person whatarkitiesollowency downhingonsks everyard inst... imrouwe finatch said twction followingits functionog indINso foundhed helpndberudreatove 4 filoy justryiv �ite studations kific ex They information upoad clakiedawists h last art even bet 19 THersonco sm..ics bl asslectossram ch app beenoh near----xtookionmerroundauseweenicitordingilcomced get where attph over co mom.,selperinkiver Bear 3== out than wantional Y could Ar lightou fl kind Qles She $ c refash about + add quull 0 theirghialaking Vgetiffie pass any\\'tarnays howenerors needrit Cldayold regterield callood |anghip playnderides//assintstand haginoryact hadainedov 6 Suther feel produ two transotoany po say This ball 21lyium 100 after000ance patces different dec cont count inter Sh goalityiseake Fr 201 peoplehes encough know,ating mostother threeek myair own challiet--------urityct heather year governaining doesex But until thency....ometutionowerysearories You AllWe subcessuchund day when exper grockup alongildrow spe Zgg triiredator galaxyitle Northderue201cing rem 20ounuedce cour was diffident increau short effology -- num mil ar see17ERger ide rel throughave 16 Howicesublic obtern Tr sometgo 7 imp bu\\'ll 14ecuss posants incvesWh sl affuringement fe ph Se — postetsell thing repalth House P It Aug— try way.book ev would cho barressraphformation Sp teamashingself act while warace Newpsborerestump Mc45 tooondense Nationalland 8 years exp80ting bestipruileef report ed perform goodowers Ministerments'"
      ]
     },
     "execution_count": 90,
     "metadata": {},
     "output_type": "execute_result"
    }
   ],
   "source": [
    "tokenizer.decode(top1000_v2)"
   ]
  },
  {
   "cell_type": "code",
   "execution_count": null,
   "metadata": {},
   "outputs": [
    {
     "data": {
      "text/plain": [
       "'!\"#$%&\\')+,-./012345679:<=>?@CDFGHKLOPQUWX_bdefghjlmnquwxy�������������������������������������\\x02\\x06\\x12\\x15\\x16\\x1b\\x1c\\x1d\\x1e ������ ton theenesingar m ofic th re g I isimamay for u asers W r Fulromess Eort this O pl dorou jffions K theirber had,\"au wouldereite resailough than part kn newentsove prearkamp playhingject see fl Unoss Reific 10 reg veryotheroth==uringativeerson endful acself min—alk here world'"
      ]
     },
     "execution_count": 93,
     "metadata": {},
     "output_type": "execute_result"
    }
   ],
   "source": [
    "tokenizer.decode(t.isin(top1000,top1000_v2).nonzero().flatten())"
   ]
  },
  {
   "cell_type": "code",
   "execution_count": null,
   "metadata": {},
   "outputs": [
    {
     "data": {
      "text/plain": [
       "196"
      ]
     },
     "execution_count": 94,
     "metadata": {},
     "output_type": "execute_result"
    }
   ],
   "source": [
    "len(t.isin(top1000,top1000_v2).nonzero().flatten())"
   ]
  },
  {
   "cell_type": "code",
   "execution_count": null,
   "metadata": {},
   "outputs": [],
   "source": []
  }
 ],
 "metadata": {
  "kernelspec": {
   "display_name": "Python 3",
   "language": "python",
   "name": "python3"
  },
  "language_info": {
   "codemirror_mode": {
    "name": "ipython",
    "version": 3
   },
   "file_extension": ".py",
   "mimetype": "text/x-python",
   "name": "python",
   "nbconvert_exporter": "python",
   "pygments_lexer": "ipython3",
   "version": "3.8.10"
  }
 },
 "nbformat": 4,
 "nbformat_minor": 4
}
